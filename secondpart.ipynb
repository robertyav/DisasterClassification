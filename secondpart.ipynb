{
  "nbformat": 4,
  "nbformat_minor": 0,
  "metadata": {
    "colab": {
      "provenance": [],
      "mount_file_id": "1q7sFMCXJald553uzdYuxIIwHb_bo3bT7",
      "authorship_tag": "ABX9TyNrcx5Vg4gjIc5+VtR8VeDG",
      "include_colab_link": true
    },
    "kernelspec": {
      "name": "python3",
      "display_name": "Python 3"
    },
    "language_info": {
      "name": "python"
    }
  },
  "cells": [
    {
      "cell_type": "markdown",
      "metadata": {
        "id": "view-in-github",
        "colab_type": "text"
      },
      "source": [
        "<a href=\"https://colab.research.google.com/github/robertyav/DisasterClassification/blob/main/secondpart.ipynb\" target=\"_parent\"><img src=\"https://colab.research.google.com/assets/colab-badge.svg\" alt=\"Open In Colab\"/></a>"
      ]
    },
    {
      "cell_type": "code",
      "execution_count": null,
      "metadata": {
        "id": "Ki9ZK6vxU56j"
      },
      "outputs": [],
      "source": [
        "import pandas as pd\n",
        "from sklearn import metrics"
      ]
    },
    {
      "cell_type": "code",
      "source": [
        "df = pd.read_csv('/content/drive/MyDrive/disaster/train.csv')"
      ],
      "metadata": {
        "id": "sr7QTx83ZuaR"
      },
      "execution_count": null,
      "outputs": []
    },
    {
      "cell_type": "code",
      "source": [
        "# df_cleaned = df[['text', 'target']]\n",
        "# df_cleaned.to_csv('clean.csv')"
      ],
      "metadata": {
        "id": "RkQZi5VFy20P"
      },
      "execution_count": null,
      "outputs": []
    },
    {
      "cell_type": "code",
      "source": [
        "from sklearn.model_selection import train_test_split\n",
        "\n",
        "X_train, X_test, y_train, y_test = train_test_split(df['text'], df['target'], test_size=.2)"
      ],
      "metadata": {
        "id": "NNSym1Iqa7jU"
      },
      "execution_count": null,
      "outputs": []
    },
    {
      "cell_type": "code",
      "source": [
        "from sklearn.feature_extraction.text import CountVectorizer\n",
        "\n",
        "count_vectorizer = CountVectorizer(stop_words='english')\n",
        "count_train = count_vectorizer.fit_transform(X_train)\n",
        "count_test = count_vectorizer.transform(X_test)"
      ],
      "metadata": {
        "id": "ZvbuiUmmbhSK"
      },
      "execution_count": null,
      "outputs": []
    },
    {
      "cell_type": "markdown",
      "source": [
        "# Multinomial Naive Bayes"
      ],
      "metadata": {
        "id": "VCZsjOxGKhee"
      }
    },
    {
      "cell_type": "code",
      "source": [
        "from sklearn.metrics._plot.confusion_matrix import ConfusionMatrixDisplay\n",
        "from sklearn.naive_bayes import MultinomialNB\n",
        "\n",
        "nb_classifier = MultinomialNB()\n",
        "nb_classifier.fit(count_train, y_train)\n",
        "\n",
        "pred = nb_classifier.predict(count_test)\n",
        "print('Accuracy: ', metrics.accuracy_score(y_test, pred))\n",
        "print('Precision: ', metrics.precision_score(y_test, pred))\n",
        "print('Recall: ', metrics.recall_score(y_test, pred))\n",
        "\n",
        "print('Confusion matrix: ')\n",
        "print(metrics.confusion_matrix(y_test, pred))"
      ],
      "metadata": {
        "colab": {
          "base_uri": "https://localhost:8080/"
        },
        "id": "G93f8nThc3XZ",
        "outputId": "524a7a91-c5a1-4924-fcd7-647cbe75ff2f"
      },
      "execution_count": null,
      "outputs": [
        {
          "output_type": "stream",
          "name": "stdout",
          "text": [
            "Accuracy:  0.7977675640183848\n",
            "Precision:  0.7833333333333333\n",
            "Recall:  0.7253086419753086\n",
            "Confusion matrix: \n",
            "[[745 130]\n",
            " [178 470]]\n"
          ]
        }
      ]
    },
    {
      "cell_type": "code",
      "source": [
        "from sklearn.feature_extraction.text import TfidfVectorizer\n",
        "\n",
        "tfidf_vectorizer = TfidfVectorizer(stop_words='english')\n",
        "tfidf_train = tfidf_vectorizer.fit_transform(X_train)\n",
        "tfidf_test = tfidf_vectorizer.transform(X_test)"
      ],
      "metadata": {
        "id": "8tjxqhlMdskw"
      },
      "execution_count": null,
      "outputs": []
    },
    {
      "cell_type": "markdown",
      "source": [
        "# Logistic Regression"
      ],
      "metadata": {
        "id": "zrN_PP8-J-YA"
      }
    },
    {
      "cell_type": "code",
      "source": [
        "from sklearn.linear_model import LogisticRegression\n",
        "\n",
        "lr_classifier = LogisticRegression()\n",
        "lr_classifier.fit(tfidf_train, y_train)\n",
        "\n",
        "pred = lr_classifier.predict(tfidf_test)\n",
        "print('Accuracy: ', metrics.accuracy_score(y_test, pred))\n",
        "print('Precision: ', metrics.precision_score(y_test, pred))\n",
        "print('Recall: ', metrics.recall_score(y_test, pred))\n",
        "\n",
        "print('Confusion matrix: ')\n",
        "print(metrics.confusion_matrix(y_test, pred))"
      ],
      "metadata": {
        "colab": {
          "base_uri": "https://localhost:8080/"
        },
        "id": "o59FSLzOdEuE",
        "outputId": "bde5cb4d-67c8-45df-8968-d8fe5fbc579e"
      },
      "execution_count": null,
      "outputs": [
        {
          "output_type": "stream",
          "name": "stdout",
          "text": [
            "Accuracy:  0.7997373604727511\n",
            "Precision:  0.8205607476635514\n",
            "Recall:  0.6774691358024691\n",
            "Confusion matrix: \n",
            "[[779  96]\n",
            " [209 439]]\n"
          ]
        }
      ]
    },
    {
      "cell_type": "markdown",
      "source": [
        "# Support Vector Machine"
      ],
      "metadata": {
        "id": "jnzkayw1J32b"
      }
    },
    {
      "cell_type": "code",
      "source": [
        "from sklearn.svm import SVC\n",
        "\n",
        "svm_classifier = SVC()\n",
        "svm_classifier.fit(tfidf_train, y_train)\n",
        "\n",
        "pred = svm_classifier.predict(tfidf_test)\n",
        "print('Accuracy: ', metrics.accuracy_score(y_test, pred))\n",
        "print('Precision: ', metrics.precision_score(y_test, pred))\n",
        "print('Recall: ', metrics.recall_score(y_test, pred))\n",
        "\n",
        "print('Confusion matrix: ')\n",
        "print(metrics.confusion_matrix(y_test, pred))"
      ],
      "metadata": {
        "colab": {
          "base_uri": "https://localhost:8080/"
        },
        "id": "gxeJXSdZdi6m",
        "outputId": "ce526133-775e-42e5-db06-ed5002030ce4"
      },
      "execution_count": null,
      "outputs": [
        {
          "output_type": "stream",
          "name": "stdout",
          "text": [
            "Accuracy:  0.7997373604727511\n",
            "Precision:  0.834307992202729\n",
            "Recall:  0.6604938271604939\n",
            "Confusion matrix: \n",
            "[[790  85]\n",
            " [220 428]]\n"
          ]
        }
      ]
    },
    {
      "cell_type": "markdown",
      "source": [
        "# Decision Tree"
      ],
      "metadata": {
        "id": "YDRS_f01J1aP"
      }
    },
    {
      "cell_type": "code",
      "source": [
        "from sklearn.tree import DecisionTreeClassifier\n",
        "\n",
        "dt_classifier = DecisionTreeClassifier()\n",
        "dt_classifier.fit(tfidf_train, y_train)\n",
        "\n",
        "pred = dt_classifier.predict(tfidf_test)\n",
        "print('Accuracy: ', metrics.accuracy_score(y_test, pred))\n",
        "print('Precision: ', metrics.precision_score(y_test, pred))\n",
        "print('Recall: ', metrics.recall_score(y_test, pred))\n",
        "\n",
        "print('Confusion matrix: ')\n",
        "print(metrics.confusion_matrix(y_test, pred))"
      ],
      "metadata": {
        "colab": {
          "base_uri": "https://localhost:8080/"
        },
        "id": "ATXaCKNhDfUi",
        "outputId": "4b3e019c-225a-47cc-fb73-e0b90d1db070"
      },
      "execution_count": null,
      "outputs": [
        {
          "output_type": "stream",
          "name": "stdout",
          "text": [
            "Accuracy:  0.7130663164806303\n",
            "Precision:  0.6743801652892562\n",
            "Recall:  0.6296296296296297\n",
            "Confusion matrix: \n",
            "[[678 197]\n",
            " [240 408]]\n"
          ]
        }
      ]
    },
    {
      "cell_type": "markdown",
      "source": [
        "# Random Forest"
      ],
      "metadata": {
        "id": "jYtTg6YIJzOf"
      }
    },
    {
      "cell_type": "code",
      "source": [
        "from sklearn.ensemble import RandomForestClassifier\n",
        "\n",
        "rf_classifier = RandomForestClassifier()\n",
        "rf_classifier.fit(tfidf_train, y_train)\n",
        "\n",
        "pred = rf_classifier.predict(tfidf_test)\n",
        "print('Accuracy: ', metrics.accuracy_score(y_test, pred))\n",
        "print('Precision: ', metrics.precision_score(y_test, pred))\n",
        "print('Recall: ', metrics.recall_score(y_test, pred))\n",
        "\n",
        "print('Confusion matrix: ')\n",
        "print(metrics.confusion_matrix(y_test, pred))"
      ],
      "metadata": {
        "colab": {
          "base_uri": "https://localhost:8080/"
        },
        "id": "Nf8MiwjxGOl4",
        "outputId": "9ce61491-4a89-4284-8919-2f836f7df0de"
      },
      "execution_count": null,
      "outputs": [
        {
          "output_type": "stream",
          "name": "stdout",
          "text": [
            "Accuracy:  0.7820091923834537\n",
            "Precision:  0.80859375\n",
            "Recall:  0.6388888888888888\n",
            "Confusion matrix: \n",
            "[[777  98]\n",
            " [234 414]]\n"
          ]
        }
      ]
    },
    {
      "cell_type": "markdown",
      "source": [
        "# Gradient Boosting"
      ],
      "metadata": {
        "id": "787vU0B-LIGw"
      }
    },
    {
      "cell_type": "code",
      "source": [
        "from sklearn.ensemble import GradientBoostingClassifier\n",
        "\n",
        "gb_classifier = GradientBoostingClassifier()\n",
        "gb_classifier.fit(tfidf_train, y_train)\n",
        "\n",
        "pred = gb_classifier.predict(tfidf_test)\n",
        "print('Accuracy: ', metrics.accuracy_score(y_test, pred))\n",
        "print('Precision: ', metrics.precision_score(y_test, pred))\n",
        "print('Recall: ', metrics.recall_score(y_test, pred))\n",
        "\n",
        "print('Confusion matrix: ')\n",
        "print(metrics.confusion_matrix(y_test, pred))"
      ],
      "metadata": {
        "colab": {
          "base_uri": "https://localhost:8080/"
        },
        "id": "faKe46GdHi8T",
        "outputId": "9f31f383-1180-4aef-ae67-35a2d9ac1f9d"
      },
      "execution_count": null,
      "outputs": [
        {
          "output_type": "stream",
          "name": "stdout",
          "text": [
            "Accuracy:  0.7491792514773473\n",
            "Precision:  0.8537234042553191\n",
            "Recall:  0.49537037037037035\n",
            "Confusion matrix: \n",
            "[[820  55]\n",
            " [327 321]]\n"
          ]
        }
      ]
    },
    {
      "cell_type": "markdown",
      "source": [
        "# K-Nearest Neighbors"
      ],
      "metadata": {
        "id": "i24qfBt0MODS"
      }
    },
    {
      "cell_type": "code",
      "source": [
        "from sklearn.neighbors import KNeighborsClassifier\n",
        "\n",
        "kn_classifier = KNeighborsClassifier(n_neighbors=1)\n",
        "kn_classifier.fit(tfidf_train, y_train)\n",
        "\n",
        "pred = kn_classifier.predict(tfidf_test)\n",
        "print('Accuracy: ', metrics.accuracy_score(y_test, pred))\n",
        "print('Precision: ', metrics.precision_score(y_test, pred))\n",
        "print('Recall: ', metrics.recall_score(y_test, pred))\n",
        "\n",
        "print('Confusion matrix: ')\n",
        "print(metrics.confusion_matrix(y_test, pred))"
      ],
      "metadata": {
        "colab": {
          "base_uri": "https://localhost:8080/"
        },
        "id": "O5X6pLnWMNqc",
        "outputId": "c2c0efa3-f358-4644-cb82-a4c67816e91f"
      },
      "execution_count": null,
      "outputs": [
        {
          "output_type": "stream",
          "name": "stdout",
          "text": [
            "Accuracy:  0.711096520026264\n",
            "Precision:  0.6625\n",
            "Recall:  0.654320987654321\n",
            "Confusion matrix: \n",
            "[[659 216]\n",
            " [224 424]]\n"
          ]
        }
      ]
    }
  ]
}